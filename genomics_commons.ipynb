{
 "cells": [
  {
   "cell_type": "markdown",
   "id": "5dba4a4b-63cb-4ac7-8423-22e2369c7d0f",
   "metadata": {},
   "source": [
    "# Genomics Commons Docker Image: A Simple Example"
   ]
  },
  {
   "cell_type": "markdown",
   "id": "511f02d8",
   "metadata": {},
   "source": [
    "Docker images are self-contained, lightweight software packages equipped with all the essentials to run a program: the code, runtime, system tools, libraries, and settings. In genomics, Docker images offer invaluable consistency for computational analyses. The Genomics Commons Docker image, in particular, is a curated collection of tools and libraries tailored for genomics research. In this tutorial, we will guide you through a step-by-step process to download and inspect this image. Furthermore, we will demonstrate its use in calculating the identity by descent using PLINK."
   ]
  },
  {
   "cell_type": "markdown",
   "id": "b11f4fac",
   "metadata": {},
   "source": [
    "## Docker Image Setup"
   ]
  },
  {
   "cell_type": "markdown",
   "id": "74c27bb3",
   "metadata": {},
   "source": [
    "To begin, we'll download the latest version of the Genomics Commons Docker Image from the GitHub Container Registry `ghcr.io`. This ensures that we're working with the most recent version of the tools and software installed within the image."
   ]
  },
  {
   "cell_type": "code",
   "execution_count": 1,
   "id": "63e10187-2a0b-4a1c-94b9-3a00b2c91e2d",
   "metadata": {},
   "outputs": [
    {
     "name": "stdout",
     "output_type": "stream",
     "text": [
      "Using default tag: latest\n",
      "latest: Pulling from ecrrm/genomics-commons\n",
      "Digest: sha256:e877a246d8d9b37223d47b97b3bb81fe3058e947502aac553bf4af9047e31cbe\n",
      "Status: Image is up to date for ghcr.io/ecrrm/genomics-commons:latest\n",
      "ghcr.io/ecrrm/genomics-commons:latest\n"
     ]
    }
   ],
   "source": [
    "docker pull ghcr.io/ecrrm/genomics-commons"
   ]
  },
  {
   "cell_type": "markdown",
   "id": "d30dba3f",
   "metadata": {},
   "source": [
    "\n",
    "Now, let's verify the version of `plink` installed in the Docker image. `plink` is a free, open-source whole genome association analysis toolset, designed to perform a range of basic, large-scale analyses in a computationally efficient manner. Knowing the version helps in ensuring compatibility with specific analysis pipelines.\n"
   ]
  },
  {
   "cell_type": "code",
   "execution_count": 2,
   "id": "54bea128-668e-4c00-8090-450f9885b6bf",
   "metadata": {},
   "outputs": [
    {
     "name": "stdout",
     "output_type": "stream",
     "text": [
      "PLINK v1.90b7 64-bit (16 Jan 2023)\n"
     ]
    }
   ],
   "source": [
    "docker run --rm ghcr.io/ecrrm/genomics-commons plink --version"
   ]
  },
  {
   "cell_type": "markdown",
   "id": "e7cd3242",
   "metadata": {},
   "source": [
    "The output shows that the version of `plink` installed in the Docker image is `v1.90b7`, released on `16 Jan 2023`. Having this information can be crucial when ensuring compatibility with certain genomics workflows."
   ]
  },
  {
   "cell_type": "markdown",
   "id": "1dea221f",
   "metadata": {},
   "source": [
    "## Data Acquisition"
   ]
  },
  {
   "cell_type": "markdown",
   "id": "1fb2315f",
   "metadata": {},
   "source": [
    "### Description of Samples NA12877 and NA12878\n",
    "The samples NA12877 and NA12878 are part of [the 1000 Genomes Project](https://www.internationalgenome.org/) and represent two of the high-coverage sequenced individuals.\n",
    "\n",
    "- **NA12877**: This sample corresponds to a child from a family trio studied as part of the project.\n",
    "- **NA12878**: This is the mother of NA12877 and is one of the most sequenced genomes in the world. The sample is frequently used as a benchmark in genomics studies and serves as a reference in many projects due to its extensive sequencing and characterization."
   ]
  },
  {
   "cell_type": "markdown",
   "id": "c643dfa1",
   "metadata": {},
   "source": [
    "We'll start by downloading a VCF (Variant Call Format) file for the sample NA12877. A VCF file is a standard format in genomics that contains information about genetic variations found in specific samples. This format is widely used in genomics research and bioinformatics pipelines."
   ]
  },
  {
   "cell_type": "markdown",
   "id": "2ff5c55e-a5d5-47b5-a636-127187a1d61b",
   "metadata": {},
   "source": [
    "First, let's create a temporary directory to store our downloaded data. This directory will hold the VCF (Variant Call Format) files, which contain information about genetic variations found in specific samples. VCF is a standard format in genomics for representing such variations."
   ]
  },
  {
   "cell_type": "code",
   "execution_count": 3,
   "id": "65cd7fe1-d67c-4394-955e-05afb8a83aaa",
   "metadata": {},
   "outputs": [
    {
     "name": "stdout",
     "output_type": "stream",
     "text": [
      "/tmp/tmp.1pZR3ymSfT\n"
     ]
    }
   ],
   "source": [
    "tmpdir=$(mktemp -d)\n",
    "\n",
    "echo $tmpdir"
   ]
  },
  {
   "cell_type": "markdown",
   "id": "c6197e9e-12bf-451a-9162-8a368045604f",
   "metadata": {},
   "source": [
    "To ensure that the directory was successfully created, we'll list its contents. This step is a basic verification to confirm everything is set up correctly before we proceed with data acquisition."
   ]
  },
  {
   "cell_type": "code",
   "execution_count": 4,
   "id": "a286457e-8f18-47dd-9dd9-98f3453b37b1",
   "metadata": {},
   "outputs": [
    {
     "name": "stdout",
     "output_type": "stream",
     "text": [
      "total 200\n",
      "drwx------  2 ahmed ahmed   4096 Aug 13 07:48 .\n",
      "drwxrwxrwt 54 root  root  196608 Aug 13 07:48 ..\n"
     ]
    }
   ],
   "source": [
    "ls -al $tmpdir"
   ]
  },
  {
   "cell_type": "markdown",
   "id": "0f903b2c-dfa7-4476-b578-0c3aa19f970c",
   "metadata": {},
   "source": [
    "Now, let's download the VCF file for sample, NA12878."
   ]
  },
  {
   "cell_type": "code",
   "execution_count": 5,
   "id": "d07b4699-3a26-49eb-b699-05e5b23a30db",
   "metadata": {},
   "outputs": [
    {
     "name": "stdout",
     "output_type": "stream",
     "text": [
      "  % Total    % Received % Xferd  Average Speed   Time    Time     Time  Current\n",
      "                                 Dload  Upload   Total   Spent    Left  Speed\n",
      "100 35.2M  100 35.2M    0     0  7581k      0  0:00:04  0:00:04 --:--:-- 8286k\n"
     ]
    }
   ],
   "source": [
    "curl -o $tmpdir/NA12877.vcf.gz https://s3.eu-central-1.amazonaws.com/platinum-genomes/2017-1.0/hg38/small_variants/NA12877/NA12877.vcf.gz"
   ]
  },
  {
   "cell_type": "markdown",
   "id": "7c70b59c",
   "metadata": {},
   "source": [
    "The output confirms that the VCF file for the sample NA12877 was successfully downloaded."
   ]
  },
  {
   "cell_type": "markdown",
   "id": "471d5dd3",
   "metadata": {},
   "source": [
    "Now, let's download another VCF file for a different sample, NA12878. This will give us multiple samples to work with in subsequent steps."
   ]
  },
  {
   "cell_type": "code",
   "execution_count": 6,
   "id": "3261b3b2-c6e8-42fb-936e-8cad64508c51",
   "metadata": {},
   "outputs": [
    {
     "name": "stdout",
     "output_type": "stream",
     "text": [
      "  % Total    % Received % Xferd  Average Speed   Time    Time     Time  Current\n",
      "                                 Dload  Upload   Total   Spent    Left  Speed\n",
      "100 35.4M  100 35.4M    0     0  7645k      0  0:00:04  0:00:04 --:--:-- 8975k\n"
     ]
    }
   ],
   "source": [
    "curl -o $tmpdir/NA12878.vcf.gz https://s3.eu-central-1.amazonaws.com/platinum-genomes/2017-1.0/hg38/small_variants/NA12878/NA12878.vcf.gz"
   ]
  },
  {
   "cell_type": "markdown",
   "id": "08dc687f",
   "metadata": {},
   "source": [
    "The output indicates that the VCF file for the sample NA12878 was successfully downloaded."
   ]
  },
  {
   "cell_type": "markdown",
   "id": "5f42ec68",
   "metadata": {},
   "source": [
    "## Data Preparation"
   ]
  },
  {
   "cell_type": "markdown",
   "id": "e5a6407e",
   "metadata": {},
   "source": [
    "After downloading the VCFs file for the samples, we'll use the `tabix` command (from within our Docker image) to index these files. Indexing with `tabix` allows for efficient random access to specific regions of the VCF file, making it quicker to retrieve variant information for specific genomic locations."
   ]
  },
  {
   "cell_type": "code",
   "execution_count": 7,
   "id": "70490b12-95d6-44ea-a46f-9101f50292f4",
   "metadata": {},
   "outputs": [],
   "source": [
    "docker run --rm -v $tmpdir:/data ghcr.io/ecrrm/genomics-commons tabix -f /data/NA12877.vcf.gz"
   ]
  },
  {
   "cell_type": "markdown",
   "id": "0d16fb6b",
   "metadata": {},
   "source": [
    "Now, let's list the contents of our temporary directory again. This step helps us verify the presence of both the downloaded VCF file and its index created using `tabix`."
   ]
  },
  {
   "cell_type": "code",
   "execution_count": 8,
   "id": "3bfb3f6f-bdaa-46eb-a8ec-86d4b14c8535",
   "metadata": {},
   "outputs": [
    {
     "name": "stdout",
     "output_type": "stream",
     "text": [
      "total 74076\n",
      "drwx------  2 ahmed ahmed     4096 Aug 13 07:48 .\n",
      "drwxrwxrwt 54 root  root    196608 Aug 13 07:48 ..\n",
      "-rw-r--r--  1 ahmed ahmed 36943942 Aug 13 07:48 NA12877.vcf.gz\n",
      "-rw-r--r--  1 root  root   1550031 Aug 13 07:48 NA12877.vcf.gz.tbi\n",
      "-rw-r--r--  1 ahmed ahmed 37138627 Aug 13 07:48 NA12878.vcf.gz\n"
     ]
    }
   ],
   "source": [
    "ls -al $tmpdir"
   ]
  },
  {
   "cell_type": "markdown",
   "id": "8a2f85b0",
   "metadata": {},
   "source": [
    "The directory listing confirms the presence of both the VCF file (`NA12877.vcf.gz`) and its index (`NA12877.vcf.gz.tbi`). With these files ready, we can proceed to the data preparation steps."
   ]
  },
  {
   "cell_type": "code",
   "execution_count": 9,
   "id": "955b0e89-d752-43f5-9faa-972a8e0b53ec",
   "metadata": {},
   "outputs": [],
   "source": [
    "docker run --rm -v $tmpdir:/data ghcr.io/ecrrm/genomics-commons tabix -f /data/NA12878.vcf.gz"
   ]
  },
  {
   "cell_type": "markdown",
   "id": "a91c9690",
   "metadata": {},
   "source": [
    "Let's once again list the contents of our temporary directory. This verification step ensures we have both the VCF files and their respective indexes for samples NA12877 and NA12878."
   ]
  },
  {
   "cell_type": "code",
   "execution_count": 10,
   "id": "ad5162e5-d96a-42c4-aae5-2dee83ca01c9",
   "metadata": {},
   "outputs": [
    {
     "name": "stdout",
     "output_type": "stream",
     "text": [
      "total 75596\n",
      "drwx------  2 ahmed ahmed     4096 Aug 13 07:48 .\n",
      "drwxrwxrwt 54 root  root    196608 Aug 13 07:48 ..\n",
      "-rw-r--r--  1 ahmed ahmed 36943942 Aug 13 07:48 NA12877.vcf.gz\n",
      "-rw-r--r--  1 root  root   1550031 Aug 13 07:48 NA12877.vcf.gz.tbi\n",
      "-rw-r--r--  1 ahmed ahmed 37138627 Aug 13 07:48 NA12878.vcf.gz\n",
      "-rw-r--r--  1 root  root   1554018 Aug 13 07:48 NA12878.vcf.gz.tbi\n"
     ]
    }
   ],
   "source": [
    "ls -al $tmpdir"
   ]
  },
  {
   "cell_type": "markdown",
   "id": "1487d89b-249b-4f0a-b4fb-cb3936bddb08",
   "metadata": {},
   "source": [
    "The directory listing confirms the presence of the VCF files and their indexes for both samples: `NA12877` and `NA12878`. With these files in place, we can move forward to the analysis."
   ]
  },
  {
   "cell_type": "markdown",
   "id": "8644ead6",
   "metadata": {},
   "source": [
    "After downloading and indexing the VCF files for our samples, we can now merge them into a single VCF file. Merging VCF files is a common operation when working with genomics data from multiple samples. This allows us to perform joint variant calling, which can increase the accuracy of variant detection."
   ]
  },
  {
   "cell_type": "markdown",
   "id": "b70c3c91",
   "metadata": {},
   "source": [
    "To combine the VCF files for both samples (`NA12877` and `NA12878`), we'll use the `vcf-merge` tool. Merging multiple VCF files allows us to consolidate variant information from different samples into a single file, facilitating joint analyses."
   ]
  },
  {
   "cell_type": "code",
   "execution_count": 11,
   "id": "46140d49-0cc2-4e15-8ae8-49021c11f1fe",
   "metadata": {},
   "outputs": [
    {
     "name": "stdout",
     "output_type": "stream",
     "text": [
      "Using column name 'NA12877' for /data/NA12877.vcf.gz:NA12877\n",
      "Using column name 'NA12878' for /data/NA12878.vcf.gz:NA12878\n"
     ]
    }
   ],
   "source": [
    "docker run --rm -v $tmpdir:/data ghcr.io/ecrrm/genomics-commons vcf-merge /data/NA12877.vcf.gz /data/NA12878.vcf.gz > $tmpdir/merged.vcf"
   ]
  },
  {
   "cell_type": "markdown",
   "id": "6491ae9d",
   "metadata": {},
   "source": [
    "Let's now list the contents of our directory to verify the presence of the merged VCF file. This step ensures the merging process was successful and the merged file is ready for further analysis."
   ]
  },
  {
   "cell_type": "code",
   "execution_count": 12,
   "id": "f847035e-749c-4d6e-b5e1-3c4261bf87f5",
   "metadata": {},
   "outputs": [
    {
     "name": "stdout",
     "output_type": "stream",
     "text": [
      "total 756524\n",
      "drwx------  2 ahmed ahmed      4096 Aug 13 07:48 .\n",
      "drwxrwxrwt 54 root  root     196608 Aug 13 07:55 ..\n",
      "-rw-r--r--  1 ahmed ahmed 697262816 Aug 13 07:55 merged.vcf\n",
      "-rw-r--r--  1 ahmed ahmed  36943942 Aug 13 07:48 NA12877.vcf.gz\n",
      "-rw-r--r--  1 root  root    1550031 Aug 13 07:48 NA12877.vcf.gz.tbi\n",
      "-rw-r--r--  1 ahmed ahmed  37138627 Aug 13 07:48 NA12878.vcf.gz\n",
      "-rw-r--r--  1 root  root    1554018 Aug 13 07:48 NA12878.vcf.gz.tbi\n"
     ]
    }
   ],
   "source": [
    "ls -al $tmpdir"
   ]
  },
  {
   "cell_type": "markdown",
   "id": "d78cf72b",
   "metadata": {},
   "source": [
    "The merged VCF file contains information about genetic variants found in both samples. The VCF format consists of a header section and a data section. The header contains metadata about the file and the data section lists the genetic variants along with various annotations."
   ]
  },
  {
   "cell_type": "markdown",
   "id": "fcf759eb",
   "metadata": {},
   "source": [
    "The directory listing shows the `merged.vcf` file alongside the VCF files and indexes for both samples (`NA12877` and `NA12878`). This confirms the successful creation of the merged VCF file."
   ]
  },
  {
   "cell_type": "code",
   "execution_count": 13,
   "id": "d1036682-6f56-43c0-8e8a-1417ef3d91f6",
   "metadata": {},
   "outputs": [
    {
     "name": "stdout",
     "output_type": "stream",
     "text": [
      "chr1\t727034\t.\tC\tT\t.\tPASS\tAC=1;AN=2;KFF=0;KFP=0;KM=5.71;MTD=bwa_freebayes,bwa_gatk,bwa_platypus;SF=0\tGT\t1|0\t.\n",
      "chr1\t727242\t.\tG\tA\t.\tPASS\tAC=1;AN=2;KFF=0;KFP=0;KM=9.86;MTD=bwa_freebayes,bwa_gatk,bwa_platypus,isaac_strelka;SF=0\tGT\t1|0\t.\n",
      "chr1\t727477\t.\tG\tA\t.\tPASS\tAC=3;AN=4;KFF=0;KFP=0;KM=6.89;MTD=bwa_freebayes,bwa_gatk,bwa_platypus;SF=0,1\tGT\t0|1\t1|1\n",
      "chr1\t727717\t.\tG\tC\t.\tPASS\tAC=3;AN=4;KFF=0;KFP=0;KM=11.2;MTD=bwa_freebayes,bwa_gatk,bwa_platypus;SF=0,1\tGT\t0|1\t1|1\n",
      "chr1\t729886\t.\tT\tC\t.\tPASS\tAC=1;AN=2;KFF=0;KFP=0;KM=8.29;MTD=bwa_freebayes,bwa_gatk,bwa_platypus;SF=0\tGT\t1|0\t.\n",
      "chr1\t736852\t.\tC\tT\t.\tPASS\tAC=1;AN=2;KFF=0;KFP=0;KM=12.1;MTD=bwa_freebayes,bwa_gatk,bwa_platypus;SF=0\tGT\t1|0\t.\n",
      "chr1\t740738\t.\tC\tT\t.\tPASS\tAC=1;AN=2;KFF=0;KFP=0;KM=9.5;MTD=bwa_freebayes,bwa_gatk,bwa_platypus;SF=1\tGT\t.\t1|0\n",
      "chr1\t744224\t.\tC\tA\t.\tPASS\tAC=4;AN=4;KFF=0;KFP=0;KM=8.19;MTD=bwa_freebayes,bwa_gatk,bwa_platypus;SF=0,1\tGT\t1|1\t1|1\n",
      "chr1\t758351\t.\tA\tG\t.\tPASS\tAC=1;AN=2;KFF=0;KFP=0;KM=11.5;MTD=bwa_freebayes,bwa_gatk,bwa_platypus;SF=0\tGT\t1|0\t.\n",
      "chr1\t758443\t.\tG\tC\t.\tPASS\tAC=1;AN=2;KFF=0;KFP=0;KM=8.57;MTD=bwa_freebayes,bwa_gatk,bwa_platypus;SF=0\tGT\t1|0\t.\n",
      "write /dev/stdout: broken pipe\n"
     ]
    }
   ],
   "source": [
    "docker run --rm -v $tmpdir:/data ghcr.io/ecrrm/genomics-commons bcftools view /data/merged.vcf --no-header | head"
   ]
  },
  {
   "cell_type": "markdown",
   "id": "0870e20d",
   "metadata": {},
   "source": [
    "The displayed lines provide a glimpse into the merged VCF file's content. Each line represents a genetic variant, and the columns provide details such as the chromosome (`chr`), position, reference allele, alternative allele, and annotations. These details are essential for interpreting the genetic information contained in the VCF file."
   ]
  },
  {
   "cell_type": "markdown",
   "id": "a3816c8f",
   "metadata": {},
   "source": [
    "## Data Analysis"
   ]
  },
  {
   "cell_type": "markdown",
   "id": "747b12ce-26ee-436c-9752-2abbb98a31d0",
   "metadata": {},
   "source": [
    "Before diving into data analysis, we'll convert the merged VCF file into PLINK binary format. PLINK is a widely-used bioinformatics toolset designed for whole-genome association and population-based linkage analysis. By converting our data into PLINK's binary format, we can leverage PLINK's suite of utilities for various genomic analyses."
   ]
  },
  {
   "cell_type": "code",
   "execution_count": 14,
   "id": "0f122b8b-953a-41a2-988f-d66c5b18f806",
   "metadata": {},
   "outputs": [
    {
     "name": "stdout",
     "output_type": "stream",
     "text": [
      "PLINK v1.90b7 64-bit (16 Jan 2023)             www.cog-genomics.org/plink/1.9/\n",
      "(C) 2005-2023 Shaun Purcell, Christopher Chang   GNU General Public License v3\n",
      "Logging to /data/plink_data.log.\n",
      "Options in effect:\n",
      "  --make-bed\n",
      "  --out /data/plink_data\n",
      "  --vcf /data/merged.vcf\n",
      "\n",
      "515347 MB RAM detected; reserving 257673 MB for main workspace.\n",
      "--vcf: /data/plink_data-temporary.bed + /data/plink_data-temporary.bim +\n",
      "/data/plink_data-temporary.fam written.\n",
      "5562641 variants loaded from .bim file.\n",
      "2 people (0 males, 0 females, 2 ambiguous) loaded from .fam.\n",
      "Ambiguous sex IDs written to /data/plink_data.nosex .\n",
      "Using 1 thread (no multithreaded calculations invoked).\n",
      "Before main variant filters, 2 founders and 0 nonfounders present.\n",
      "Calculating allele frequencies... 10111213141516171819202122232425262728293031323334353637383940414243444546474849505152535455565758596061626364656667686970717273747576777879808182838485868788899091929394959697989 done.\n",
      "Total genotyping rate is 0.741072.\n",
      "5562641 variants and 2 people pass filters and QC.\n",
      "Note: No phenotypes present.\n",
      "--make-bed to /data/plink_data.bed + /data/plink_data.bim +\n",
      "/data/plink_data.fam ... 101112131415161718192021222324252627282930313233343536373839404142434445464748495051525354555657585960616263646566676869707172737475767778798081828384858687888990919293949596979899done.\n"
     ]
    }
   ],
   "source": [
    "docker run --rm -v $tmpdir:/data ghcr.io/ecrrm/genomics-commons plink --vcf /data/merged.vcf --make-bed --out /data/plink_data"
   ]
  },
  {
   "cell_type": "markdown",
   "id": "0ca9ee0b",
   "metadata": {},
   "source": [
    "The output confirms the successful conversion of the merged VCF file to PLINK binary format. From the logs, we can gather that 5,562,641 variants were processed and 2 samples were included in the dataset. This binary format is now ready for further filtering and using PLINK."
   ]
  },
  {
   "cell_type": "markdown",
   "id": "a949e3b1",
   "metadata": {},
   "source": [
    "In genomics analyses, it's essential to filter out variants with high missing genotyping rates. Such variants can introduce noise and reduce the reliability of downstream analyses. Here, we'll remove variants with a missing genotyping rate greater than 5% to ensure data quality."
   ]
  },
  {
   "cell_type": "markdown",
   "id": "dca384f6",
   "metadata": {},
   "source": [
    "The PLINK log provides detailed feedback on the filtering process based on the missing genotyping rate. Post-filtering, a subset of variants is retained, ensuring higher data quality for subsequent analyses."
   ]
  },
  {
   "cell_type": "code",
   "execution_count": 15,
   "id": "d10f6272-8f15-4c32-959a-bfe4ea61bf33",
   "metadata": {},
   "outputs": [
    {
     "name": "stdout",
     "output_type": "stream",
     "text": [
      "PLINK v1.90b7 64-bit (16 Jan 2023)             www.cog-genomics.org/plink/1.9/\n",
      "(C) 2005-2023 Shaun Purcell, Christopher Chang   GNU General Public License v3\n",
      "Logging to /data/plink_data_geno_filtered.log.\n",
      "Options in effect:\n",
      "  --bfile /data/plink_data\n",
      "  --geno 0.05\n",
      "  --make-bed\n",
      "  --out /data/plink_data_geno_filtered\n",
      "\n",
      "515347 MB RAM detected; reserving 257673 MB for main workspace.\n",
      "5562641 variants loaded from .bim file.\n",
      "2 people (0 males, 0 females, 2 ambiguous) loaded from .fam.\n",
      "Ambiguous sex IDs written to /data/plink_data_geno_filtered.nosex .\n",
      "Using 1 thread (no multithreaded calculations invoked).\n",
      "Before main variant filters, 2 founders and 0 nonfounders present.\n",
      "Calculating allele frequencies... 10111213141516171819202122232425262728293031323334353637383940414243444546474849505152535455565758596061626364656667686970717273747576777879808182838485868788899091929394959697989 done.\n",
      "Total genotyping rate is 0.741072.\n",
      "2866935 variants removed due to missing genotype data (--geno).\n",
      "2695706 variants and 2 people pass filters and QC.\n",
      "Note: No phenotypes present.\n",
      "--make-bed to /data/plink_data_geno_filtered.bed +\n",
      "/data/plink_data_geno_filtered.bim + /data/plink_data_geno_filtered.fam ...\n",
      "101112131415161718192021222324252627282930313233343536373839404142434445464748495051525354555657585960616263646566676869707172737475767778798081828384858687888990919293949596979899done.\n"
     ]
    }
   ],
   "source": [
    "docker run --rm -v $tmpdir:/data ghcr.io/ecrrm/genomics-commons plink --bfile /data/plink_data --geno 0.05 --make-bed --out /data/plink_data_geno_filtered"
   ]
  },
  {
   "cell_type": "markdown",
   "id": "fdcaf4ec-3d8d-4002-a46f-849f440464e6",
   "metadata": {},
   "source": [
    "From the log, we can see that 5,562,641 variants have been loaded from the .bim file. Then 2,866,935 variants have been removed due to the missing genotype data criteria (based on the `--geno 0.05` option). Thus, after filtering, 2,695,706 variants pass the criteria and remain in the dataset."
   ]
  },
  {
   "cell_type": "markdown",
   "id": "9b5cb4c1-789a-4b96-b8ef-9f164c9d7c8f",
   "metadata": {},
   "source": [
    "Another crucial filtering step in genomics is based on the minor allele frequency (MAF). Variants with a very low MAF can be rare or even erroneous, and their inclusion might affect the robustness of statistical analyses. To maintain data quality, we'll remove variants with a MAF less than 1%."
   ]
  },
  {
   "cell_type": "code",
   "execution_count": 16,
   "id": "299dc3c6-32e2-40c4-9f4a-9da49bf811f4",
   "metadata": {},
   "outputs": [
    {
     "name": "stdout",
     "output_type": "stream",
     "text": [
      "PLINK v1.90b7 64-bit (16 Jan 2023)             www.cog-genomics.org/plink/1.9/\n",
      "(C) 2005-2023 Shaun Purcell, Christopher Chang   GNU General Public License v3\n",
      "Logging to /data/plink_data_maf_filtered.log.\n",
      "Options in effect:\n",
      "  --bfile /data/plink_data_geno_filtered\n",
      "  --maf 0.01\n",
      "  --make-bed\n",
      "  --out /data/plink_data_maf_filtered\n",
      "\n",
      "515347 MB RAM detected; reserving 257673 MB for main workspace.\n",
      "2695706 variants loaded from .bim file.\n",
      "2 people (0 males, 0 females, 2 ambiguous) loaded from .fam.\n",
      "Ambiguous sex IDs written to /data/plink_data_maf_filtered.nosex .\n",
      "Using 1 thread (no multithreaded calculations invoked).\n",
      "Before main variant filters, 2 founders and 0 nonfounders present.\n",
      "Calculating allele frequencies... 10111213141516171819202122232425262728293031323334353637383940414243444546474849505152535455565758596061626364656667686970717273747576777879808182838485868788899091929394959697989 done.\n",
      "Total genotyping rate is exactly 1.\n",
      "944378 variants removed due to minor allele threshold(s)\n",
      "(--maf/--max-maf/--mac/--max-mac).\n",
      "1751328 variants and 2 people pass filters and QC.\n",
      "Note: No phenotypes present.\n",
      "--make-bed to /data/plink_data_maf_filtered.bed +\n",
      "/data/plink_data_maf_filtered.bim + /data/plink_data_maf_filtered.fam ... 101112131415161718192021222324252627282930313233343536373839404142434445464748495051525354555657585960616263646566676869707172737475767778798081828384858687888990919293949596979899done.\n"
     ]
    }
   ],
   "source": [
    "docker run --rm -v $tmpdir:/data ghcr.io/ecrrm/genomics-commons plink --bfile /data/plink_data_geno_filtered --maf 0.01 --make-bed --out /data/plink_data_maf_filtered"
   ]
  },
  {
   "cell_type": "markdown",
   "id": "65ca65cb-d731-4198-a1dd-26e34ffb427c",
   "metadata": {},
   "source": [
    "The output from PLINK provides details on the filtering process based on minor allele frequency. From the log, we can deduce that 944,378 variants were removed due to the specified MAF threshold. After this filtering step, 1,751,328 variants remain, ensuring the dataset is of high quality for the next stages of analysis."
   ]
  },
  {
   "cell_type": "code",
   "execution_count": 17,
   "id": "98a52961-5040-4e45-ac5b-28403946a56a",
   "metadata": {},
   "outputs": [
    {
     "name": "stdout",
     "output_type": "stream",
     "text": [
      "PLINK v1.90b7 64-bit (16 Jan 2023)             www.cog-genomics.org/plink/1.9/\n",
      "(C) 2005-2023 Shaun Purcell, Christopher Chang   GNU General Public License v3\n",
      "Logging to /data/plink_ibd_output.log.\n",
      "Options in effect:\n",
      "  --bfile /data/plink_data_maf_filtered\n",
      "  --genome\n",
      "  --out /data/plink_ibd_output\n",
      "\n",
      "515347 MB RAM detected; reserving 257673 MB for main workspace.\n",
      "1751328 variants loaded from .bim file.\n",
      "2 people (0 males, 0 females, 2 ambiguous) loaded from .fam.\n",
      "Ambiguous sex IDs written to /data/plink_ibd_output.nosex .\n",
      "Using up to 95 threads (change this with --threads).\n",
      "Before main variant filters, 2 founders and 0 nonfounders present.\n",
      "Calculating allele frequencies... 10111213141516171819202122232425262728293031323334353637383940414243444546474849505152535455565758596061626364656667686970717273747576777879808182838485868788899091929394959697989 done.\n",
      "Total genotyping rate is exactly 1.\n",
      "1751328 variants and 2 people pass filters and QC.\n",
      "Note: No phenotypes present.\n",
      "Excluding 27110 variants on non-autosomes from IBD calculation.\n",
      "IBD calculations complete.  \n",
      "Finished writing /data/plink_ibd_output.genome .\n"
     ]
    }
   ],
   "source": [
    "docker run --rm -v $tmpdir:/data ghcr.io/ecrrm/genomics-commons plink --bfile /data/plink_data_maf_filtered --genome --out /data/plink_ibd_output"
   ]
  },
  {
   "cell_type": "markdown",
   "id": "1d446339-298a-4480-985b-0fcb620eb4e8",
   "metadata": {},
   "source": [
    "The PLINK log provides feedback on the identity-by-descent (IBD) analysis process. From the output, we can deduce that 1,751,328 variants were considered for the IBD analysis for 2 samples. The generated output file (`plink_ibd_output.genome`) contains detailed IBD information for the samples, which can be further analyzed to understand relatedness and shared DNA segments between them."
   ]
  },
  {
   "cell_type": "markdown",
   "id": "ce819590",
   "metadata": {
    "tags": []
   },
   "source": [
    "### Explanation of IBD Analysis Output:\n",
    "\n",
    "The IBD (Identity-By-Descent) analysis calculates the proportion of the genome that two individuals share due to recent common ancestry. This is represented by the PI_HAT value. In the context of PLINK:\n",
    "\n",
    "- `Z0`: Proportion of genome shared by two individuals where neither has the segment inherited from a recent common ancestor.\n",
    "- `Z1`: Proportion of genome shared where one of the individuals has the segment from a recent common ancestor.\n",
    "- `Z2`: Proportion of genome shared where both individuals have the segment from the recent common ancestor.\n",
    "- `PI_HAT`: Estimated proportion of genome shared IBD (Z1/2 + Z2).\n",
    "\n",
    "| Relationship                    | Expected `PI_HAT` Value |\n",
    "|---------------------------------|-------------------------|\n",
    "| Unrelated individuals           | 0                       |\n",
    "| Parent-child                    | 0.5                     |\n",
    "| Full siblings                   | ~0.5                    |\n",
    "| Half siblings                   | 0.25                    |\n",
    "| Grandparent-grandchild          | 0.25                    |\n",
    "| Uncle-niece or Aunt-nephew      | 0.25                    |\n",
    "| Double first cousins            | ~0.25                   |\n",
    "| First cousins                   | 0.125                   |\n",
    "| First cousins once removed      | 0.0625                  |\n",
    "| Second cousins                  | 0.03125                 |\n",
    "| Second cousins once removed     | ~0.015625               |\n",
    "| Third cousins                   | 0.0078125               |\n",
    "\n",
    "Therefore, given the known relationship between NA12877 and NA12878 (child and mother), we would expect a `PI_HAT` value around 0.5 from the IBD analysis."
   ]
  },
  {
   "cell_type": "code",
   "execution_count": 18,
   "id": "44b96f61-6a52-4445-bc9a-dedbfbf3642d",
   "metadata": {
    "tags": []
   },
   "outputs": [
    {
     "name": "stdout",
     "output_type": "stream",
     "text": [
      "     FID1     IID1     FID2     IID2 RT    EZ      Z0      Z1      Z2  PI_HAT PHE       DST     PPC   RATIO\n",
      "  NA12877  NA12877  NA12878  NA12878 UN    NA  0.0000  0.8980  0.1020  0.5510  -1  0.739634  1.0000      NA\n"
     ]
    }
   ],
   "source": [
    "cat $tmpdir/plink_ibd_output.genome"
   ]
  },
  {
   "cell_type": "markdown",
   "id": "5a3d3395-0971-4a6d-aaf5-1d790fbb5260",
   "metadata": {},
   "source": [
    "**From the output**: NA12877 and NA12878 have a PI_HAT value of 0.5510, suggesting they share approximately 55.10% of their genomes due to recent common ancestry. This value is consistent with a parent-offspring relationship, which is expected as NA12878 is the mother of NA12877."
   ]
  },
  {
   "cell_type": "markdown",
   "id": "d39640e0",
   "metadata": {},
   "source": [
    "## Conclusion\n",
    "In this tutorial, we used the Genomics Commons Docker Image. Starting with the download of genomic sample data, we merged VCF files, providing a consolidated view of genetic variants from different samples. The subsequent conversion to PLINK binary format and the filtering steps ensured the data's quality for our primary analysis - the IBD analysis. Through this, we discerned the genetic relatedness between samples NA12877 and NA12878, validating known relationships.\n",
    "\n",
    "## References\n",
    "- [PLINK Documentation](https://www.cog-genomics.org/plink/1.9/)\n",
    "- [VCF Format Specification](https://samtools.github.io/hts-specs/VCFv4.2.pdf)\n",
    "- [Docker Documentation](https://docs.docker.com/)"
   ]
  }
 ],
 "metadata": {
  "kernelspec": {
   "display_name": "Bash",
   "language": "bash",
   "name": "bash"
  },
  "language_info": {
   "codemirror_mode": "shell",
   "file_extension": ".sh",
   "mimetype": "text/x-sh",
   "name": "bash"
  }
 },
 "nbformat": 4,
 "nbformat_minor": 5
}
