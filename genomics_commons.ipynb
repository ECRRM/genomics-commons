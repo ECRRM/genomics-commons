{
 "cells": [
  {
   "cell_type": "markdown",
   "id": "5dba4a4b-63cb-4ac7-8423-22e2369c7d0f",
   "metadata": {},
   "source": [
    "# Genomics Commons Docker Image: A Simple Example"
   ]
  },
  {
   "cell_type": "markdown",
   "id": "511f02d8",
   "metadata": {},
   "source": [
    "Docker images are self-contained, lightweight software packages equipped with all the essentials to run a program: the code, runtime, system tools, libraries, and settings. These characteristics make Docker images particularly valuable in fields like genomics where computational reproducibility is crucial. \n",
    "\n",
    "In genomics, researchers often encounter challenges related to software dependencies, versioning, and computational environments. These challenges can hinder reproducibility and make it difficult for others to replicate or build upon a study. Docker addresses these issues by packaging software and its dependencies into isolated containers. This ensures that the software runs consistently, regardless of where the Docker container is deployed.\n",
    "\n",
    "The Genomics Commons Docker image, in particular, provides a suite of genomics tools and software, pre-configured and ready to use. This tutorial will walk you through setting up and using this Docker image for genomics research."
   ]
  },
  {
   "cell_type": "markdown",
   "id": "fbc9600c",
   "metadata": {},
   "source": [
    "## Docker Pre-requisites\n",
    "\n",
    "Before we proceed with setting up the Genomics Commons Docker image, it's essential to ensure that you have Docker installed on your system. If you haven't installed Docker yet, you can download it from the [official Docker website](https://www.docker.com/get-started).\n",
    "\n",
    "Additionally, familiarize yourself with the following basic Docker commands:\n",
    "- `docker pull <image>`: Downloads a Docker image.\n",
    "- `docker run <image>`: Runs a Docker container from an image.\n",
    "- `docker ps`: Lists running Docker containers.\n",
    "- `docker images`: Lists available Docker images on your system.\n",
    "\n",
    "Once you're set up with Docker and familiar with the basics, we can proceed to download and use the Genomics Commons Docker image."
   ]
  },
  {
   "cell_type": "markdown",
   "id": "b11f4fac",
   "metadata": {},
   "source": [
    "## Docker Image Setup"
   ]
  },
  {
   "cell_type": "markdown",
   "id": "74c27bb3",
   "metadata": {},
   "source": [
    "To begin, we'll download the latest version of the Genomics Commons Docker Image from the GitHub Container Registry `ghcr.io`. This ensures that we're working with the most recent version of the tools and software installed within the image."
   ]
  },
  {
   "cell_type": "code",
   "execution_count": null,
   "id": "63e10187-2a0b-4a1c-94b9-3a00b2c91e2d",
   "metadata": {},
   "outputs": [],
   "source": [
    "docker pull ghcr.io/ecrrm/genomics-commons"
   ]
  },
  {
   "cell_type": "markdown",
   "id": "d30dba3f",
   "metadata": {},
   "source": [
    "\n",
    "Now, let's verify the version of `plink` installed in the Docker image. `plink` is a free, open-source whole genome association analysis toolset, designed to perform a range of basic, large-scale analyses in a computationally efficient manner. Knowing the version helps in ensuring compatibility with specific analysis pipelines.\n"
   ]
  },
  {
   "cell_type": "code",
   "execution_count": null,
   "id": "54bea128-668e-4c00-8090-450f9885b6bf",
   "metadata": {},
   "outputs": [],
   "source": [
    "docker run --rm ghcr.io/ecrrm/genomics-commons plink --version"
   ]
  },
  {
   "cell_type": "markdown",
   "id": "e7cd3242",
   "metadata": {},
   "source": [
    "The output shows that the version of `plink` installed in the Docker image is `v1.90b7`, released on `16 Jan 2023`. Having this information can be crucial when ensuring compatibility with certain genomics workflows."
   ]
  },
  {
   "cell_type": "markdown",
   "id": "1dea221f",
   "metadata": {},
   "source": [
    "## Data Acquisition"
   ]
  },
  {
   "cell_type": "markdown",
   "id": "1fb2315f",
   "metadata": {},
   "source": [
    "### Description of Samples NA12877 and NA12878\n",
    "The samples NA12877 and NA12878 are part of [the 1000 Genomes Project](https://www.internationalgenome.org/) and represent two of the high-coverage sequenced individuals.\n",
    "\n",
    "- **NA12877**: This sample corresponds to a child from a family trio studied as part of the project.\n",
    "- **NA12878**: This is the mother of NA12877 and is one of the most sequenced genomes in the world. The sample is frequently used as a benchmark in genomics studies and serves as a reference in many projects due to its extensive sequencing and characterization."
   ]
  },
  {
   "cell_type": "markdown",
   "id": "c643dfa1",
   "metadata": {},
   "source": [
    "We'll start by downloading a VCF (Variant Call Format) file for the sample NA12877. A VCF file is a standard format in genomics that contains information about genetic variations found in specific samples. This format is widely used in genomics research and bioinformatics pipelines."
   ]
  },
  {
   "cell_type": "markdown",
   "id": "2ff5c55e-a5d5-47b5-a636-127187a1d61b",
   "metadata": {},
   "source": [
    "First, let's create a temporary directory to store our downloaded data. This directory will hold the VCF (Variant Call Format) files, which contain information about genetic variations found in specific samples. VCF is a standard format in genomics for representing such variations."
   ]
  },
  {
   "cell_type": "code",
   "execution_count": null,
   "id": "65cd7fe1-d67c-4394-955e-05afb8a83aaa",
   "metadata": {},
   "outputs": [],
   "source": [
    "tmpdir=$(mktemp -d)\n",
    "\n",
    "echo $tmpdir"
   ]
  },
  {
   "cell_type": "markdown",
   "id": "c6197e9e-12bf-451a-9162-8a368045604f",
   "metadata": {},
   "source": [
    "To ensure that the directory was successfully created, we'll list its contents. This step is a basic verification to confirm everything is set up correctly before we proceed with data acquisition."
   ]
  },
  {
   "cell_type": "code",
   "execution_count": null,
   "id": "a286457e-8f18-47dd-9dd9-98f3453b37b1",
   "metadata": {},
   "outputs": [],
   "source": [
    "ls -al $tmpdir"
   ]
  },
  {
   "cell_type": "markdown",
   "id": "0f903b2c-dfa7-4476-b578-0c3aa19f970c",
   "metadata": {},
   "source": [
    "Now, let's download the VCF file for sample, NA12878."
   ]
  },
  {
   "cell_type": "code",
   "execution_count": null,
   "id": "d07b4699-3a26-49eb-b699-05e5b23a30db",
   "metadata": {},
   "outputs": [],
   "source": [
    "curl -o $tmpdir/NA12877.vcf.gz https://s3.eu-central-1.amazonaws.com/platinum-genomes/2017-1.0/hg38/small_variants/NA12877/NA12877.vcf.gz"
   ]
  },
  {
   "cell_type": "markdown",
   "id": "7c70b59c",
   "metadata": {},
   "source": [
    "The output confirms that the VCF file for the sample NA12877 was successfully downloaded."
   ]
  },
  {
   "cell_type": "markdown",
   "id": "471d5dd3",
   "metadata": {},
   "source": [
    "Now, let's download another VCF file for a different sample, NA12878. This will give us multiple samples to work with in subsequent steps."
   ]
  },
  {
   "cell_type": "code",
   "execution_count": null,
   "id": "3261b3b2-c6e8-42fb-936e-8cad64508c51",
   "metadata": {},
   "outputs": [],
   "source": [
    "curl -o $tmpdir/NA12878.vcf.gz https://s3.eu-central-1.amazonaws.com/platinum-genomes/2017-1.0/hg38/small_variants/NA12878/NA12878.vcf.gz"
   ]
  },
  {
   "cell_type": "markdown",
   "id": "08dc687f",
   "metadata": {},
   "source": [
    "The output indicates that the VCF file for the sample NA12878 was successfully downloaded."
   ]
  },
  {
   "cell_type": "markdown",
   "id": "5f42ec68",
   "metadata": {},
   "source": [
    "## Data Preparation"
   ]
  },
  {
   "cell_type": "markdown",
   "id": "e5a6407e",
   "metadata": {},
   "source": [
    "After downloading the VCFs file for the samples, we'll use the `tabix` command (from within our Docker image) to index these files. Indexing with `tabix` allows for efficient random access to specific regions of the VCF file, making it quicker to retrieve variant information for specific genomic locations."
   ]
  },
  {
   "cell_type": "code",
   "execution_count": null,
   "id": "70490b12-95d6-44ea-a46f-9101f50292f4",
   "metadata": {},
   "outputs": [],
   "source": [
    "docker run --rm -v $tmpdir:/data ghcr.io/ecrrm/genomics-commons tabix -f /data/NA12877.vcf.gz"
   ]
  },
  {
   "cell_type": "markdown",
   "id": "0d16fb6b",
   "metadata": {},
   "source": [
    "Now, let's list the contents of our temporary directory again. This step helps us verify the presence of both the downloaded VCF file and its index created using `tabix`."
   ]
  },
  {
   "cell_type": "code",
   "execution_count": null,
   "id": "3bfb3f6f-bdaa-46eb-a8ec-86d4b14c8535",
   "metadata": {},
   "outputs": [],
   "source": [
    "ls -al $tmpdir"
   ]
  },
  {
   "cell_type": "markdown",
   "id": "8a2f85b0",
   "metadata": {},
   "source": [
    "The directory listing confirms the presence of both the VCF file (`NA12877.vcf.gz`) and its index (`NA12877.vcf.gz.tbi`). With these files ready, we can proceed to the data preparation steps."
   ]
  },
  {
   "cell_type": "code",
   "execution_count": null,
   "id": "955b0e89-d752-43f5-9faa-972a8e0b53ec",
   "metadata": {},
   "outputs": [],
   "source": [
    "docker run --rm -v $tmpdir:/data ghcr.io/ecrrm/genomics-commons tabix -f /data/NA12878.vcf.gz"
   ]
  },
  {
   "cell_type": "markdown",
   "id": "a91c9690",
   "metadata": {},
   "source": [
    "Let's once again list the contents of our temporary directory. This verification step ensures we have both the VCF files and their respective indexes for samples NA12877 and NA12878."
   ]
  },
  {
   "cell_type": "code",
   "execution_count": null,
   "id": "ad5162e5-d96a-42c4-aae5-2dee83ca01c9",
   "metadata": {},
   "outputs": [],
   "source": [
    "ls -al $tmpdir"
   ]
  },
  {
   "cell_type": "markdown",
   "id": "1487d89b-249b-4f0a-b4fb-cb3936bddb08",
   "metadata": {},
   "source": [
    "The directory listing confirms the presence of the VCF files and their indexes for both samples: `NA12877` and `NA12878`. With these files in place, we can move forward to the analysis."
   ]
  },
  {
   "cell_type": "markdown",
   "id": "8644ead6",
   "metadata": {},
   "source": [
    "After downloading and indexing the VCF files for our samples, we can now merge them into a single VCF file. Merging VCF files is a common operation when working with genomics data from multiple samples. This allows us to perform joint variant calling, which can increase the accuracy of variant detection."
   ]
  },
  {
   "cell_type": "markdown",
   "id": "b70c3c91",
   "metadata": {},
   "source": [
    "To combine the VCF files for both samples (`NA12877` and `NA12878`), we'll use the `vcf-merge` tool. Merging multiple VCF files allows us to consolidate variant information from different samples into a single file, facilitating joint analyses."
   ]
  },
  {
   "cell_type": "code",
   "execution_count": null,
   "id": "46140d49-0cc2-4e15-8ae8-49021c11f1fe",
   "metadata": {},
   "outputs": [],
   "source": [
    "docker run --rm -v $tmpdir:/data ghcr.io/ecrrm/genomics-commons vcf-merge /data/NA12877.vcf.gz /data/NA12878.vcf.gz > $tmpdir/merged.vcf"
   ]
  },
  {
   "cell_type": "markdown",
   "id": "6491ae9d",
   "metadata": {},
   "source": [
    "Let's now list the contents of our directory to verify the presence of the merged VCF file. This step ensures the merging process was successful and the merged file is ready for further analysis."
   ]
  },
  {
   "cell_type": "code",
   "execution_count": null,
   "id": "f847035e-749c-4d6e-b5e1-3c4261bf87f5",
   "metadata": {},
   "outputs": [],
   "source": [
    "ls -al $tmpdir"
   ]
  },
  {
   "cell_type": "markdown",
   "id": "d78cf72b",
   "metadata": {},
   "source": [
    "The merged VCF file contains information about genetic variants found in both samples. The VCF format consists of a header section and a data section. The header contains metadata about the file and the data section lists the genetic variants along with various annotations."
   ]
  },
  {
   "cell_type": "markdown",
   "id": "fcf759eb",
   "metadata": {},
   "source": [
    "The directory listing shows the `merged.vcf` file alongside the VCF files and indexes for both samples (`NA12877` and `NA12878`). This confirms the successful creation of the merged VCF file."
   ]
  },
  {
   "cell_type": "code",
   "execution_count": null,
   "id": "d1036682-6f56-43c0-8e8a-1417ef3d91f6",
   "metadata": {},
   "outputs": [],
   "source": [
    "docker run --rm -v $tmpdir:/data ghcr.io/ecrrm/genomics-commons bcftools view /data/merged.vcf --no-header | head"
   ]
  },
  {
   "cell_type": "markdown",
   "id": "0870e20d",
   "metadata": {},
   "source": [
    "The displayed lines provide a glimpse into the merged VCF file's content. Each line represents a genetic variant, and the columns provide details such as the chromosome (`chr`), position, reference allele, alternative allele, and annotations. These details are essential for interpreting the genetic information contained in the VCF file."
   ]
  },
  {
   "cell_type": "markdown",
   "id": "a3816c8f",
   "metadata": {},
   "source": [
    "## Data Analysis"
   ]
  },
  {
   "cell_type": "markdown",
   "id": "aa2fbf12-db5b-48b9-a027-933e00f52a37",
   "metadata": {},
   "source": [
    "### Convert VCF to PLINK Format"
   ]
  },
  {
   "cell_type": "markdown",
   "id": "747b12ce-26ee-436c-9752-2abbb98a31d0",
   "metadata": {},
   "source": [
    "Before diving into data analysis, we'll convert the merged VCF file into PLINK binary format. PLINK is a widely-used bioinformatics toolset designed for whole-genome association and population-based linkage analysis. By converting our data into PLINK's binary format, we can leverage PLINK's suite of utilities for various genomic analyses."
   ]
  },
  {
   "cell_type": "code",
   "execution_count": null,
   "id": "0f122b8b-953a-41a2-988f-d66c5b18f806",
   "metadata": {},
   "outputs": [],
   "source": [
    "docker run --rm -v $tmpdir:/data ghcr.io/ecrrm/genomics-commons plink --vcf /data/merged.vcf --make-bed --out /data/plink_data"
   ]
  },
  {
   "cell_type": "markdown",
   "id": "0ca9ee0b",
   "metadata": {},
   "source": [
    "The output confirms the successful conversion of the merged VCF file to PLINK binary format. From the logs, we can gather that 5,562,641 variants were processed and 2 samples were included in the dataset. This binary format is now ready for further filtering and using PLINK."
   ]
  },
  {
   "cell_type": "markdown",
   "id": "cec1d793-5563-42e7-8dba-956dceb855ca",
   "metadata": {},
   "source": [
    "### Filter Variants with High Missingness"
   ]
  },
  {
   "cell_type": "markdown",
   "id": "a949e3b1",
   "metadata": {},
   "source": [
    "In genomics analyses, it's essential to filter out variants with high missing genotyping rates. Such variants can introduce noise and reduce the reliability of downstream analyses. Here, we'll remove variants with a missing genotyping rate greater than 5% to ensure data quality."
   ]
  },
  {
   "cell_type": "markdown",
   "id": "dca384f6",
   "metadata": {},
   "source": [
    "The PLINK log provides detailed feedback on the filtering process based on the missing genotyping rate. Post-filtering, a subset of variants is retained, ensuring higher data quality for subsequent analyses."
   ]
  },
  {
   "cell_type": "code",
   "execution_count": null,
   "id": "d10f6272-8f15-4c32-959a-bfe4ea61bf33",
   "metadata": {},
   "outputs": [],
   "source": [
    "docker run --rm -v $tmpdir:/data ghcr.io/ecrrm/genomics-commons plink --bfile /data/plink_data --geno 0.05 --make-bed --out /data/plink_data_geno_filtered"
   ]
  },
  {
   "cell_type": "markdown",
   "id": "fdcaf4ec-3d8d-4002-a46f-849f440464e6",
   "metadata": {},
   "source": [
    "From the log, we can see that 5,562,641 variants have been loaded from the .bim file. Then 2,866,935 variants have been removed due to the missing genotype data criteria (based on the `--geno 0.05` option). Thus, after filtering, 2,695,706 variants pass the criteria and remain in the dataset."
   ]
  },
  {
   "cell_type": "markdown",
   "id": "cef08b8c-b52d-43d3-a064-c058b77cce3f",
   "metadata": {},
   "source": [
    "### Filter Variants with Low MAF"
   ]
  },
  {
   "cell_type": "markdown",
   "id": "9b5cb4c1-789a-4b96-b8ef-9f164c9d7c8f",
   "metadata": {},
   "source": [
    "Another crucial filtering step in genomics is based on the minor allele frequency (MAF). Variants with a very low MAF can be rare or even erroneous, and their inclusion might affect the robustness of statistical analyses. To maintain data quality, we'll remove variants with a MAF less than 1%."
   ]
  },
  {
   "cell_type": "code",
   "execution_count": null,
   "id": "299dc3c6-32e2-40c4-9f4a-9da49bf811f4",
   "metadata": {},
   "outputs": [],
   "source": [
    "docker run --rm -v $tmpdir:/data ghcr.io/ecrrm/genomics-commons plink --bfile /data/plink_data_geno_filtered --maf 0.01 --make-bed --out /data/plink_data_maf_filtered"
   ]
  },
  {
   "cell_type": "markdown",
   "id": "65ca65cb-d731-4198-a1dd-26e34ffb427c",
   "metadata": {},
   "source": [
    "The output from PLINK provides details on the filtering process based on minor allele frequency. From the log, we can deduce that 944,378 variants were removed due to the specified MAF threshold. After this filtering step, 1,751,328 variants remain, ensuring the dataset is of high quality for the next stages of analysis."
   ]
  },
  {
   "cell_type": "markdown",
   "id": "00915bc7-8ca2-468b-b27e-e7b373ce14b7",
   "metadata": {},
   "source": [
    "### Perform the identity-by-descent (IBD) Analysis"
   ]
  },
  {
   "cell_type": "code",
   "execution_count": null,
   "id": "98a52961-5040-4e45-ac5b-28403946a56a",
   "metadata": {},
   "outputs": [],
   "source": [
    "docker run --rm -v $tmpdir:/data ghcr.io/ecrrm/genomics-commons plink --bfile /data/plink_data_maf_filtered --genome --out /data/plink_ibd_output"
   ]
  },
  {
   "cell_type": "markdown",
   "id": "1d446339-298a-4480-985b-0fcb620eb4e8",
   "metadata": {},
   "source": [
    "The PLINK log provides feedback on the identity-by-descent (IBD) analysis process. From the output, we can deduce that 1,751,328 variants were considered for the IBD analysis for 2 samples. The generated output file (`plink_ibd_output.genome`) contains detailed IBD information for the samples, which can be further analyzed to understand relatedness and shared DNA segments between them."
   ]
  },
  {
   "cell_type": "markdown",
   "id": "ce819590",
   "metadata": {
    "tags": []
   },
   "source": [
    "#### Explanation of IBD Analysis Output:\n",
    "\n",
    "The IBD (Identity-By-Descent) analysis calculates the proportion of the genome that two individuals share due to recent common ancestry. This is represented by the PI_HAT value. In the context of PLINK:\n",
    "\n",
    "- `Z0`: Proportion of genome shared by two individuals where neither has the segment inherited from a recent common ancestor.\n",
    "- `Z1`: Proportion of genome shared where one of the individuals has the segment from a recent common ancestor.\n",
    "- `Z2`: Proportion of genome shared where both individuals have the segment from the recent common ancestor.\n",
    "- `PI_HAT`: Estimated proportion of genome shared IBD (Z1/2 + Z2).\n",
    "\n",
    "| Relationship                    | Expected `PI_HAT` Value |\n",
    "|---------------------------------|-------------------------|\n",
    "| Unrelated individuals           | 0                       |\n",
    "| Parent-child                    | 0.5                     |\n",
    "| Full siblings                   | ~0.5                    |\n",
    "| Half siblings                   | 0.25                    |\n",
    "| Grandparent-grandchild          | 0.25                    |\n",
    "| Uncle-niece or Aunt-nephew      | 0.25                    |\n",
    "| Double first cousins            | ~0.25                   |\n",
    "| First cousins                   | 0.125                   |\n",
    "| First cousins once removed      | 0.0625                  |\n",
    "| Second cousins                  | 0.03125                 |\n",
    "| Second cousins once removed     | ~0.015625               |\n",
    "| Third cousins                   | 0.0078125               |\n",
    "\n",
    "Therefore, given the known relationship between NA12877 and NA12878 (child and mother), we would expect a `PI_HAT` value around 0.5 from the IBD analysis."
   ]
  },
  {
   "cell_type": "code",
   "execution_count": null,
   "id": "44b96f61-6a52-4445-bc9a-dedbfbf3642d",
   "metadata": {
    "tags": []
   },
   "outputs": [],
   "source": [
    "cat $tmpdir/plink_ibd_output.genome"
   ]
  },
  {
   "cell_type": "markdown",
   "id": "5a3d3395-0971-4a6d-aaf5-1d790fbb5260",
   "metadata": {},
   "source": [
    "**From the output**: NA12877 and NA12878 have a PI_HAT value of 0.5510, suggesting they share approximately 55.10% of their genomes due to recent common ancestry. This value is consistent with a parent-offspring relationship, which is expected as NA12878 is the mother of NA12877."
   ]
  },
  {
   "cell_type": "markdown",
   "id": "d39640e0",
   "metadata": {},
   "source": [
    "## Conclusion\n",
    "In this tutorial, we used the Genomics Commons Docker Image. Starting with the download of genomic sample data, we merged VCF files, providing a consolidated view of genetic variants from different samples. The subsequent conversion to PLINK binary format and the filtering steps ensured the data's quality for our primary analysis - the IBD analysis. Through this, we discerned the genetic relatedness between samples NA12877 and NA12878, validating known relationships.\n",
    "\n",
    "## References\n",
    "- [PLINK Documentation](https://www.cog-genomics.org/plink/1.9/)\n",
    "- [VCF Format Specification](https://samtools.github.io/hts-specs/VCFv4.2.pdf)\n",
    "- [Docker Documentation](https://docs.docker.com/)"
   ]
  }
 ],
 "metadata": {
  "kernelspec": {
   "display_name": "Bash",
   "language": "bash",
   "name": "bash"
  },
  "language_info": {
   "codemirror_mode": "shell",
   "file_extension": ".sh",
   "mimetype": "text/x-sh",
   "name": "bash"
  }
 },
 "nbformat": 4,
 "nbformat_minor": 5
}
