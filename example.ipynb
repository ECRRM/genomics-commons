{
 "cells": [
  {
   "cell_type": "markdown",
   "id": "5dba4a4b-63cb-4ac7-8423-22e2369c7d0f",
   "metadata": {},
   "source": [
    "# ECRRM Genomics Commons Docker Image: A Simple Example"
   ]
  },
  {
   "cell_type": "markdown",
   "id": "e05f4c08-a0c7-4035-b063-5ef5d66f64b3",
   "metadata": {},
   "source": [
    "## Download the latest version of the image"
   ]
  },
  {
   "cell_type": "code",
   "execution_count": 1,
   "id": "e5fef746-4b3f-4be5-8c18-f749578a60b0",
   "metadata": {},
   "outputs": [
    {
     "name": "stdout",
     "output_type": "stream",
     "text": [
      "Using default tag: latest\n",
      "latest: Pulling from ecrrm/genomics-commons\n",
      "Digest: sha256:1c280d72642330ec465354942ea946970f212ff0f4a5a694961034e61d287f1d\n",
      "Status: Image is up to date for ghcr.io/ecrrm/genomics-commons:latest\n",
      "ghcr.io/ecrrm/genomics-commons:latest\n"
     ]
    }
   ],
   "source": [
    "docker pull ghcr.io/ecrrm/genomics-commons"
   ]
  },
  {
   "cell_type": "markdown",
   "id": "bbd76b17-ce11-498c-9b49-231d4ee763c7",
   "metadata": {},
   "source": [
    "## Display the installed version of samtools on the image"
   ]
  },
  {
   "cell_type": "code",
   "execution_count": 2,
   "id": "54bea128-668e-4c00-8090-450f9885b6bf",
   "metadata": {},
   "outputs": [
    {
     "name": "stdout",
     "output_type": "stream",
     "text": [
      "samtools 1.18-1-gfc5524a\n",
      "Using htslib 1.18-7-gac70212\n",
      "Copyright (C) 2023 Genome Research Ltd.\n",
      "\n",
      "Samtools compilation details:\n",
      "    Features:       build=configure curses=yes \n",
      "    CC:             gcc\n",
      "    CPPFLAGS:       \n",
      "    CFLAGS:         -Wall -g -O2\n",
      "    LDFLAGS:        \n",
      "    HTSDIR:         ../htslib\n",
      "    LIBS:           \n",
      "    CURSES_LIB:     -lncursesw\n",
      "\n",
      "HTSlib compilation details:\n",
      "    Features:       build=configure libcurl=yes S3=yes GCS=yes libdeflate=yes lzma=yes bzip2=yes plugins=no htscodecs=1.5.1\n",
      "    CC:             gcc\n",
      "    CPPFLAGS:       \n",
      "    CFLAGS:         -Wall -g -O2 -fvisibility=hidden\n",
      "    LDFLAGS:        -fvisibility=hidden \n",
      "\n",
      "HTSlib URL scheme handlers present:\n",
      "    built-in:\t preload, data, file\n",
      "    S3 Multipart Upload:\t s3w, s3w+https, s3w+http\n",
      "    Amazon S3:\t s3+https, s3+http, s3\n",
      "    Google Cloud Storage:\t gs+http, gs+https, gs\n",
      "    libcurl:\t imaps, pop3, gophers, http, smb, gopher, sftp, ftps, imap, smtp, smtps, rtsp, scp, ftp, telnet, mqtt, rtmp, ldap, https, ldaps, smbs, tftp, pop3s, dict\n",
      "    crypt4gh-needed:\t crypt4gh\n",
      "    mem:\t mem\n"
     ]
    }
   ],
   "source": [
    "docker run --rm ghcr.io/ecrrm/genomics-commons samtools --version"
   ]
  },
  {
   "cell_type": "markdown",
   "id": "6cc0213b-d962-4d5f-916e-829f8c2086cc",
   "metadata": {},
   "source": [
    "# Generate the stats of small mictochnodrial bam file\n",
    "Data source: [tiny-test-data](https://github.com/brainstorm/tiny-test-data)"
   ]
  },
  {
   "cell_type": "code",
   "execution_count": 3,
   "id": "154dba98-6aae-4eec-8323-49f9863da21a",
   "metadata": {},
   "outputs": [
    {
     "name": "stdout",
     "output_type": "stream",
     "text": [
      "9224 + 0 in total (QC-passed reads + QC-failed reads)\n",
      "9194 + 0 primary\n",
      "0 + 0 secondary\n",
      "30 + 0 supplementary\n",
      "0 + 0 duplicates\n",
      "0 + 0 primary duplicates\n",
      "9214 + 0 mapped (99.89% : N/A)\n",
      "9184 + 0 primary mapped (99.89% : N/A)\n",
      "9194 + 0 paired in sequencing\n",
      "4597 + 0 read1\n",
      "4597 + 0 read2\n",
      "8552 + 0 properly paired (93.02% : N/A)\n",
      "9174 + 0 with itself and mate mapped\n",
      "10 + 0 singletons (0.11% : N/A)\n",
      "272 + 0 with mate mapped to a different chr\n",
      "71 + 0 with mate mapped to a different chr (mapQ>=5)\n"
     ]
    }
   ],
   "source": [
    "docker run --rm ghcr.io/ecrrm/genomics-commons samtools flagstat https://github.com/brainstorm/tiny-test-data/raw/master/wgs/mt.bam"
   ]
  },
  {
   "cell_type": "code",
   "execution_count": null,
   "id": "7fb6843d-790b-4b21-abc1-33d85d32b8ee",
   "metadata": {},
   "outputs": [],
   "source": []
  }
 ],
 "metadata": {
  "kernelspec": {
   "display_name": "Bash",
   "language": "bash",
   "name": "bash"
  },
  "language_info": {
   "codemirror_mode": "shell",
   "file_extension": ".sh",
   "mimetype": "text/x-sh",
   "name": "bash"
  }
 },
 "nbformat": 4,
 "nbformat_minor": 5
}
